{
 "cells": [
  {
   "cell_type": "markdown",
   "metadata": {},
   "source": [
    "## Bienvenidos a mi primer acercamiento a Pyton para el analis de Datos"
   ]
  },
  {
   "cell_type": "markdown",
   "metadata": {},
   "source": [
    "### Primer Ejercicio de Markdown\n",
    "este es el camino de incio para apreder Pyton para el *analisis de Datos*"
   ]
  },
  {
   "cell_type": "markdown",
   "metadata": {},
   "source": [
    "### Que voy aprender en este primer curso\n",
    "\n",
    "1. Cargar Archivos en Jupiter notebook\n",
    "2. Cargar Librerias \n",
    "3. Limpieza de datos\n",
    "4. Correr algoritmos\n"
   ]
  },
  {
   "cell_type": "markdown",
   "metadata": {},
   "source": [
    "[Visita mi perfil Gitgub](https://github.com/db-fer-rodriguez)"
   ]
  },
  {
   "cell_type": "markdown",
   "metadata": {},
   "source": [
    "![Mis Primeras Palabras](https://learn.microsoft.com/en-us/shows/hello-world/media/helloworld_383x215.png)"
   ]
  },
  {
   "cell_type": "markdown",
   "metadata": {},
   "source": []
  },
  {
   "cell_type": "markdown",
   "metadata": {},
   "source": [
    "### Importar Librerias Pandas Numpy y Matplotlib"
   ]
  },
  {
   "cell_type": "code",
   "execution_count": 3,
   "metadata": {},
   "outputs": [],
   "source": [
    "import pandas as pd\n",
    "import numpy as np \n",
    "import matplotlib as plt"
   ]
  },
  {
   "cell_type": "markdown",
   "metadata": {},
   "source": [
    "### Importar archivos Excel o CSV"
   ]
  },
  {
   "cell_type": "code",
   "execution_count": 7,
   "metadata": {},
   "outputs": [],
   "source": [
    "df_netflix = pd.read_csv(\"E:\\\\Users\\\\xoot\\\\Downloads\\\\archive\\\\netflix_titles.csv\")"
   ]
  },
  {
   "cell_type": "markdown",
   "metadata": {},
   "source": [
    "### Exploracion de Datos CSV"
   ]
  },
  {
   "cell_type": "code",
   "execution_count": 8,
   "metadata": {},
   "outputs": [
    {
     "name": "stdout",
     "output_type": "stream",
     "text": [
      "Primeras filas del dataframe:\n"
     ]
    },
    {
     "data": {
      "text/html": [
       "<div>\n",
       "<style scoped>\n",
       "    .dataframe tbody tr th:only-of-type {\n",
       "        vertical-align: middle;\n",
       "    }\n",
       "\n",
       "    .dataframe tbody tr th {\n",
       "        vertical-align: top;\n",
       "    }\n",
       "\n",
       "    .dataframe thead th {\n",
       "        text-align: right;\n",
       "    }\n",
       "</style>\n",
       "<table border=\"1\" class=\"dataframe\">\n",
       "  <thead>\n",
       "    <tr style=\"text-align: right;\">\n",
       "      <th></th>\n",
       "      <th>show_id</th>\n",
       "      <th>type</th>\n",
       "      <th>title</th>\n",
       "      <th>director</th>\n",
       "      <th>cast</th>\n",
       "      <th>country</th>\n",
       "      <th>date_added</th>\n",
       "      <th>release_year</th>\n",
       "      <th>rating</th>\n",
       "      <th>duration</th>\n",
       "      <th>listed_in</th>\n",
       "      <th>description</th>\n",
       "    </tr>\n",
       "  </thead>\n",
       "  <tbody>\n",
       "    <tr>\n",
       "      <th>0</th>\n",
       "      <td>s1</td>\n",
       "      <td>Movie</td>\n",
       "      <td>Dick Johnson Is Dead</td>\n",
       "      <td>Kirsten Johnson</td>\n",
       "      <td>NaN</td>\n",
       "      <td>United States</td>\n",
       "      <td>September 25, 2021</td>\n",
       "      <td>2020</td>\n",
       "      <td>PG-13</td>\n",
       "      <td>90 min</td>\n",
       "      <td>Documentaries</td>\n",
       "      <td>As her father nears the end of his life, filmm...</td>\n",
       "    </tr>\n",
       "    <tr>\n",
       "      <th>1</th>\n",
       "      <td>s2</td>\n",
       "      <td>TV Show</td>\n",
       "      <td>Blood &amp; Water</td>\n",
       "      <td>NaN</td>\n",
       "      <td>Ama Qamata, Khosi Ngema, Gail Mabalane, Thaban...</td>\n",
       "      <td>South Africa</td>\n",
       "      <td>September 24, 2021</td>\n",
       "      <td>2021</td>\n",
       "      <td>TV-MA</td>\n",
       "      <td>2 Seasons</td>\n",
       "      <td>International TV Shows, TV Dramas, TV Mysteries</td>\n",
       "      <td>After crossing paths at a party, a Cape Town t...</td>\n",
       "    </tr>\n",
       "    <tr>\n",
       "      <th>2</th>\n",
       "      <td>s3</td>\n",
       "      <td>TV Show</td>\n",
       "      <td>Ganglands</td>\n",
       "      <td>Julien Leclercq</td>\n",
       "      <td>Sami Bouajila, Tracy Gotoas, Samuel Jouy, Nabi...</td>\n",
       "      <td>NaN</td>\n",
       "      <td>September 24, 2021</td>\n",
       "      <td>2021</td>\n",
       "      <td>TV-MA</td>\n",
       "      <td>1 Season</td>\n",
       "      <td>Crime TV Shows, International TV Shows, TV Act...</td>\n",
       "      <td>To protect his family from a powerful drug lor...</td>\n",
       "    </tr>\n",
       "    <tr>\n",
       "      <th>3</th>\n",
       "      <td>s4</td>\n",
       "      <td>TV Show</td>\n",
       "      <td>Jailbirds New Orleans</td>\n",
       "      <td>NaN</td>\n",
       "      <td>NaN</td>\n",
       "      <td>NaN</td>\n",
       "      <td>September 24, 2021</td>\n",
       "      <td>2021</td>\n",
       "      <td>TV-MA</td>\n",
       "      <td>1 Season</td>\n",
       "      <td>Docuseries, Reality TV</td>\n",
       "      <td>Feuds, flirtations and toilet talk go down amo...</td>\n",
       "    </tr>\n",
       "    <tr>\n",
       "      <th>4</th>\n",
       "      <td>s5</td>\n",
       "      <td>TV Show</td>\n",
       "      <td>Kota Factory</td>\n",
       "      <td>NaN</td>\n",
       "      <td>Mayur More, Jitendra Kumar, Ranjan Raj, Alam K...</td>\n",
       "      <td>India</td>\n",
       "      <td>September 24, 2021</td>\n",
       "      <td>2021</td>\n",
       "      <td>TV-MA</td>\n",
       "      <td>2 Seasons</td>\n",
       "      <td>International TV Shows, Romantic TV Shows, TV ...</td>\n",
       "      <td>In a city of coaching centers known to train I...</td>\n",
       "    </tr>\n",
       "  </tbody>\n",
       "</table>\n",
       "</div>"
      ],
      "text/plain": [
       "  show_id     type                  title         director  \\\n",
       "0      s1    Movie   Dick Johnson Is Dead  Kirsten Johnson   \n",
       "1      s2  TV Show          Blood & Water              NaN   \n",
       "2      s3  TV Show              Ganglands  Julien Leclercq   \n",
       "3      s4  TV Show  Jailbirds New Orleans              NaN   \n",
       "4      s5  TV Show           Kota Factory              NaN   \n",
       "\n",
       "                                                cast        country  \\\n",
       "0                                                NaN  United States   \n",
       "1  Ama Qamata, Khosi Ngema, Gail Mabalane, Thaban...   South Africa   \n",
       "2  Sami Bouajila, Tracy Gotoas, Samuel Jouy, Nabi...            NaN   \n",
       "3                                                NaN            NaN   \n",
       "4  Mayur More, Jitendra Kumar, Ranjan Raj, Alam K...          India   \n",
       "\n",
       "           date_added  release_year rating   duration  \\\n",
       "0  September 25, 2021          2020  PG-13     90 min   \n",
       "1  September 24, 2021          2021  TV-MA  2 Seasons   \n",
       "2  September 24, 2021          2021  TV-MA   1 Season   \n",
       "3  September 24, 2021          2021  TV-MA   1 Season   \n",
       "4  September 24, 2021          2021  TV-MA  2 Seasons   \n",
       "\n",
       "                                           listed_in  \\\n",
       "0                                      Documentaries   \n",
       "1    International TV Shows, TV Dramas, TV Mysteries   \n",
       "2  Crime TV Shows, International TV Shows, TV Act...   \n",
       "3                             Docuseries, Reality TV   \n",
       "4  International TV Shows, Romantic TV Shows, TV ...   \n",
       "\n",
       "                                         description  \n",
       "0  As her father nears the end of his life, filmm...  \n",
       "1  After crossing paths at a party, a Cape Town t...  \n",
       "2  To protect his family from a powerful drug lor...  \n",
       "3  Feuds, flirtations and toilet talk go down amo...  \n",
       "4  In a city of coaching centers known to train I...  "
      ]
     },
     "execution_count": 8,
     "metadata": {},
     "output_type": "execute_result"
    }
   ],
   "source": [
    "#Mostrar las primeras 5 filas del dataframe\n",
    "print(\"Primeras filas del dataframe:\")\n",
    "df_netflix.head()"
   ]
  },
  {
   "cell_type": "code",
   "execution_count": 9,
   "metadata": {},
   "outputs": [
    {
     "name": "stdout",
     "output_type": "stream",
     "text": [
      "\n",
      "Información general del dataframe:\n",
      "<class 'pandas.core.frame.DataFrame'>\n",
      "RangeIndex: 8807 entries, 0 to 8806\n",
      "Data columns (total 12 columns):\n",
      " #   Column        Non-Null Count  Dtype \n",
      "---  ------        --------------  ----- \n",
      " 0   show_id       8807 non-null   object\n",
      " 1   type          8807 non-null   object\n",
      " 2   title         8807 non-null   object\n",
      " 3   director      6173 non-null   object\n",
      " 4   cast          7982 non-null   object\n",
      " 5   country       7976 non-null   object\n",
      " 6   date_added    8797 non-null   object\n",
      " 7   release_year  8807 non-null   int64 \n",
      " 8   rating        8803 non-null   object\n",
      " 9   duration      8804 non-null   object\n",
      " 10  listed_in     8807 non-null   object\n",
      " 11  description   8807 non-null   object\n",
      "dtypes: int64(1), object(11)\n",
      "memory usage: 825.8+ KB\n"
     ]
    }
   ],
   "source": [
    "# Obtener información general del dataframe\n",
    "print(\"\\nInformación general del dataframe:\")\n",
    "df_netflix.info()"
   ]
  },
  {
   "cell_type": "code",
   "execution_count": 10,
   "metadata": {},
   "outputs": [
    {
     "name": "stdout",
     "output_type": "stream",
     "text": [
      "\n",
      "Descripción estadística:\n"
     ]
    },
    {
     "data": {
      "text/html": [
       "<div>\n",
       "<style scoped>\n",
       "    .dataframe tbody tr th:only-of-type {\n",
       "        vertical-align: middle;\n",
       "    }\n",
       "\n",
       "    .dataframe tbody tr th {\n",
       "        vertical-align: top;\n",
       "    }\n",
       "\n",
       "    .dataframe thead th {\n",
       "        text-align: right;\n",
       "    }\n",
       "</style>\n",
       "<table border=\"1\" class=\"dataframe\">\n",
       "  <thead>\n",
       "    <tr style=\"text-align: right;\">\n",
       "      <th></th>\n",
       "      <th>release_year</th>\n",
       "    </tr>\n",
       "  </thead>\n",
       "  <tbody>\n",
       "    <tr>\n",
       "      <th>count</th>\n",
       "      <td>8807.000000</td>\n",
       "    </tr>\n",
       "    <tr>\n",
       "      <th>mean</th>\n",
       "      <td>2014.180198</td>\n",
       "    </tr>\n",
       "    <tr>\n",
       "      <th>std</th>\n",
       "      <td>8.819312</td>\n",
       "    </tr>\n",
       "    <tr>\n",
       "      <th>min</th>\n",
       "      <td>1925.000000</td>\n",
       "    </tr>\n",
       "    <tr>\n",
       "      <th>25%</th>\n",
       "      <td>2013.000000</td>\n",
       "    </tr>\n",
       "    <tr>\n",
       "      <th>50%</th>\n",
       "      <td>2017.000000</td>\n",
       "    </tr>\n",
       "    <tr>\n",
       "      <th>75%</th>\n",
       "      <td>2019.000000</td>\n",
       "    </tr>\n",
       "    <tr>\n",
       "      <th>max</th>\n",
       "      <td>2021.000000</td>\n",
       "    </tr>\n",
       "  </tbody>\n",
       "</table>\n",
       "</div>"
      ],
      "text/plain": [
       "       release_year\n",
       "count   8807.000000\n",
       "mean    2014.180198\n",
       "std        8.819312\n",
       "min     1925.000000\n",
       "25%     2013.000000\n",
       "50%     2017.000000\n",
       "75%     2019.000000\n",
       "max     2021.000000"
      ]
     },
     "execution_count": 10,
     "metadata": {},
     "output_type": "execute_result"
    }
   ],
   "source": [
    "# descripción estadística de los datos numéricos\n",
    "print(\"\\nDescripción estadística:\")\n",
    "df_netflix.describe()"
   ]
  },
  {
   "cell_type": "markdown",
   "metadata": {},
   "source": [
    "### Manipulacion y Filtrado de Datos"
   ]
  },
  {
   "cell_type": "code",
   "execution_count": 12,
   "metadata": {},
   "outputs": [
    {
     "name": "stdout",
     "output_type": "stream",
     "text": [
      "\n",
      "Análisis de la columna release_year:\n",
      "release_year\n",
      "2018    1147\n",
      "2017    1032\n",
      "2019    1030\n",
      "2020     953\n",
      "2016     902\n",
      "        ... \n",
      "1961       1\n",
      "1925       1\n",
      "1959       1\n",
      "1966       1\n",
      "1947       1\n",
      "Name: count, Length: 74, dtype: int64\n"
     ]
    }
   ],
   "source": [
    "# Seleccionar una columna específica para el análisis\n",
    "columna_seleccionada = 'release_year'\n",
    "print(f\"\\nAnálisis de la columna {columna_seleccionada}:\")\n",
    "print(df_netflix[columna_seleccionada].value_counts())"
   ]
  },
  {
   "cell_type": "code",
   "execution_count": 13,
   "metadata": {},
   "outputs": [
    {
     "name": "stdout",
     "output_type": "stream",
     "text": [
      "Show de estados unidos con fecha de lanzamiento mayor a 2005:\n"
     ]
    },
    {
     "data": {
      "text/html": [
       "<div>\n",
       "<style scoped>\n",
       "    .dataframe tbody tr th:only-of-type {\n",
       "        vertical-align: middle;\n",
       "    }\n",
       "\n",
       "    .dataframe tbody tr th {\n",
       "        vertical-align: top;\n",
       "    }\n",
       "\n",
       "    .dataframe thead th {\n",
       "        text-align: right;\n",
       "    }\n",
       "</style>\n",
       "<table border=\"1\" class=\"dataframe\">\n",
       "  <thead>\n",
       "    <tr style=\"text-align: right;\">\n",
       "      <th></th>\n",
       "      <th>show_id</th>\n",
       "      <th>type</th>\n",
       "      <th>title</th>\n",
       "      <th>director</th>\n",
       "      <th>cast</th>\n",
       "      <th>country</th>\n",
       "      <th>date_added</th>\n",
       "      <th>release_year</th>\n",
       "      <th>rating</th>\n",
       "      <th>duration</th>\n",
       "      <th>listed_in</th>\n",
       "      <th>description</th>\n",
       "    </tr>\n",
       "  </thead>\n",
       "  <tbody>\n",
       "    <tr>\n",
       "      <th>0</th>\n",
       "      <td>s1</td>\n",
       "      <td>Movie</td>\n",
       "      <td>Dick Johnson Is Dead</td>\n",
       "      <td>Kirsten Johnson</td>\n",
       "      <td>NaN</td>\n",
       "      <td>United States</td>\n",
       "      <td>September 25, 2021</td>\n",
       "      <td>2020</td>\n",
       "      <td>PG-13</td>\n",
       "      <td>90 min</td>\n",
       "      <td>Documentaries</td>\n",
       "      <td>As her father nears the end of his life, filmm...</td>\n",
       "    </tr>\n",
       "    <tr>\n",
       "      <th>9</th>\n",
       "      <td>s10</td>\n",
       "      <td>Movie</td>\n",
       "      <td>The Starling</td>\n",
       "      <td>Theodore Melfi</td>\n",
       "      <td>Melissa McCarthy, Chris O'Dowd, Kevin Kline, T...</td>\n",
       "      <td>United States</td>\n",
       "      <td>September 24, 2021</td>\n",
       "      <td>2021</td>\n",
       "      <td>PG-13</td>\n",
       "      <td>104 min</td>\n",
       "      <td>Comedies, Dramas</td>\n",
       "      <td>A woman adjusting to life after a loss contend...</td>\n",
       "    </tr>\n",
       "    <tr>\n",
       "      <th>15</th>\n",
       "      <td>s16</td>\n",
       "      <td>TV Show</td>\n",
       "      <td>Dear White People</td>\n",
       "      <td>NaN</td>\n",
       "      <td>Logan Browning, Brandon P. Bell, DeRon Horton,...</td>\n",
       "      <td>United States</td>\n",
       "      <td>September 22, 2021</td>\n",
       "      <td>2021</td>\n",
       "      <td>TV-MA</td>\n",
       "      <td>4 Seasons</td>\n",
       "      <td>TV Comedies, TV Dramas</td>\n",
       "      <td>Students of color navigate the daily slights a...</td>\n",
       "    </tr>\n",
       "    <tr>\n",
       "      <th>27</th>\n",
       "      <td>s28</td>\n",
       "      <td>Movie</td>\n",
       "      <td>Grown Ups</td>\n",
       "      <td>Dennis Dugan</td>\n",
       "      <td>Adam Sandler, Kevin James, Chris Rock, David S...</td>\n",
       "      <td>United States</td>\n",
       "      <td>September 20, 2021</td>\n",
       "      <td>2010</td>\n",
       "      <td>PG-13</td>\n",
       "      <td>103 min</td>\n",
       "      <td>Comedies</td>\n",
       "      <td>Mourning the loss of their beloved junior high...</td>\n",
       "    </tr>\n",
       "    <tr>\n",
       "      <th>28</th>\n",
       "      <td>s29</td>\n",
       "      <td>Movie</td>\n",
       "      <td>Dark Skies</td>\n",
       "      <td>Scott Stewart</td>\n",
       "      <td>Keri Russell, Josh Hamilton, J.K. Simmons, Dak...</td>\n",
       "      <td>United States</td>\n",
       "      <td>September 19, 2021</td>\n",
       "      <td>2013</td>\n",
       "      <td>PG-13</td>\n",
       "      <td>97 min</td>\n",
       "      <td>Horror Movies, Sci-Fi &amp; Fantasy</td>\n",
       "      <td>A family’s idyllic suburban life shatters when...</td>\n",
       "    </tr>\n",
       "    <tr>\n",
       "      <th>...</th>\n",
       "      <td>...</td>\n",
       "      <td>...</td>\n",
       "      <td>...</td>\n",
       "      <td>...</td>\n",
       "      <td>...</td>\n",
       "      <td>...</td>\n",
       "      <td>...</td>\n",
       "      <td>...</td>\n",
       "      <td>...</td>\n",
       "      <td>...</td>\n",
       "      <td>...</td>\n",
       "      <td>...</td>\n",
       "    </tr>\n",
       "    <tr>\n",
       "      <th>8790</th>\n",
       "      <td>s8791</td>\n",
       "      <td>Movie</td>\n",
       "      <td>You Don't Mess with the Zohan</td>\n",
       "      <td>Dennis Dugan</td>\n",
       "      <td>Adam Sandler, John Turturro, Emmanuelle Chriqu...</td>\n",
       "      <td>United States</td>\n",
       "      <td>September 1, 2019</td>\n",
       "      <td>2008</td>\n",
       "      <td>UR</td>\n",
       "      <td>113 min</td>\n",
       "      <td>Action &amp; Adventure, Comedies</td>\n",
       "      <td>An Israeli counterterrorism soldier with a sec...</td>\n",
       "    </tr>\n",
       "    <tr>\n",
       "      <th>8791</th>\n",
       "      <td>s8792</td>\n",
       "      <td>Movie</td>\n",
       "      <td>Young Adult</td>\n",
       "      <td>Jason Reitman</td>\n",
       "      <td>Charlize Theron, Patton Oswalt, Patrick Wilson...</td>\n",
       "      <td>United States</td>\n",
       "      <td>November 20, 2019</td>\n",
       "      <td>2011</td>\n",
       "      <td>R</td>\n",
       "      <td>94 min</td>\n",
       "      <td>Comedies, Dramas, Independent Movies</td>\n",
       "      <td>When a divorced writer gets a letter from an o...</td>\n",
       "    </tr>\n",
       "    <tr>\n",
       "      <th>8802</th>\n",
       "      <td>s8803</td>\n",
       "      <td>Movie</td>\n",
       "      <td>Zodiac</td>\n",
       "      <td>David Fincher</td>\n",
       "      <td>Mark Ruffalo, Jake Gyllenhaal, Robert Downey J...</td>\n",
       "      <td>United States</td>\n",
       "      <td>November 20, 2019</td>\n",
       "      <td>2007</td>\n",
       "      <td>R</td>\n",
       "      <td>158 min</td>\n",
       "      <td>Cult Movies, Dramas, Thrillers</td>\n",
       "      <td>A political cartoonist, a crime reporter and a...</td>\n",
       "    </tr>\n",
       "    <tr>\n",
       "      <th>8804</th>\n",
       "      <td>s8805</td>\n",
       "      <td>Movie</td>\n",
       "      <td>Zombieland</td>\n",
       "      <td>Ruben Fleischer</td>\n",
       "      <td>Jesse Eisenberg, Woody Harrelson, Emma Stone, ...</td>\n",
       "      <td>United States</td>\n",
       "      <td>November 1, 2019</td>\n",
       "      <td>2009</td>\n",
       "      <td>R</td>\n",
       "      <td>88 min</td>\n",
       "      <td>Comedies, Horror Movies</td>\n",
       "      <td>Looking to survive in a world taken over by zo...</td>\n",
       "    </tr>\n",
       "    <tr>\n",
       "      <th>8805</th>\n",
       "      <td>s8806</td>\n",
       "      <td>Movie</td>\n",
       "      <td>Zoom</td>\n",
       "      <td>Peter Hewitt</td>\n",
       "      <td>Tim Allen, Courteney Cox, Chevy Chase, Kate Ma...</td>\n",
       "      <td>United States</td>\n",
       "      <td>January 11, 2020</td>\n",
       "      <td>2006</td>\n",
       "      <td>PG</td>\n",
       "      <td>88 min</td>\n",
       "      <td>Children &amp; Family Movies, Comedies</td>\n",
       "      <td>Dragged from civilian life, a former superhero...</td>\n",
       "    </tr>\n",
       "  </tbody>\n",
       "</table>\n",
       "<p>2452 rows × 12 columns</p>\n",
       "</div>"
      ],
      "text/plain": [
       "     show_id     type                          title         director  \\\n",
       "0         s1    Movie           Dick Johnson Is Dead  Kirsten Johnson   \n",
       "9        s10    Movie                   The Starling   Theodore Melfi   \n",
       "15       s16  TV Show              Dear White People              NaN   \n",
       "27       s28    Movie                      Grown Ups     Dennis Dugan   \n",
       "28       s29    Movie                     Dark Skies    Scott Stewart   \n",
       "...      ...      ...                            ...              ...   \n",
       "8790   s8791    Movie  You Don't Mess with the Zohan     Dennis Dugan   \n",
       "8791   s8792    Movie                    Young Adult    Jason Reitman   \n",
       "8802   s8803    Movie                         Zodiac    David Fincher   \n",
       "8804   s8805    Movie                     Zombieland  Ruben Fleischer   \n",
       "8805   s8806    Movie                           Zoom     Peter Hewitt   \n",
       "\n",
       "                                                   cast        country  \\\n",
       "0                                                   NaN  United States   \n",
       "9     Melissa McCarthy, Chris O'Dowd, Kevin Kline, T...  United States   \n",
       "15    Logan Browning, Brandon P. Bell, DeRon Horton,...  United States   \n",
       "27    Adam Sandler, Kevin James, Chris Rock, David S...  United States   \n",
       "28    Keri Russell, Josh Hamilton, J.K. Simmons, Dak...  United States   \n",
       "...                                                 ...            ...   \n",
       "8790  Adam Sandler, John Turturro, Emmanuelle Chriqu...  United States   \n",
       "8791  Charlize Theron, Patton Oswalt, Patrick Wilson...  United States   \n",
       "8802  Mark Ruffalo, Jake Gyllenhaal, Robert Downey J...  United States   \n",
       "8804  Jesse Eisenberg, Woody Harrelson, Emma Stone, ...  United States   \n",
       "8805  Tim Allen, Courteney Cox, Chevy Chase, Kate Ma...  United States   \n",
       "\n",
       "              date_added  release_year rating   duration  \\\n",
       "0     September 25, 2021          2020  PG-13     90 min   \n",
       "9     September 24, 2021          2021  PG-13    104 min   \n",
       "15    September 22, 2021          2021  TV-MA  4 Seasons   \n",
       "27    September 20, 2021          2010  PG-13    103 min   \n",
       "28    September 19, 2021          2013  PG-13     97 min   \n",
       "...                  ...           ...    ...        ...   \n",
       "8790   September 1, 2019          2008     UR    113 min   \n",
       "8791   November 20, 2019          2011      R     94 min   \n",
       "8802   November 20, 2019          2007      R    158 min   \n",
       "8804    November 1, 2019          2009      R     88 min   \n",
       "8805    January 11, 2020          2006     PG     88 min   \n",
       "\n",
       "                                 listed_in  \\\n",
       "0                            Documentaries   \n",
       "9                         Comedies, Dramas   \n",
       "15                  TV Comedies, TV Dramas   \n",
       "27                                Comedies   \n",
       "28         Horror Movies, Sci-Fi & Fantasy   \n",
       "...                                    ...   \n",
       "8790          Action & Adventure, Comedies   \n",
       "8791  Comedies, Dramas, Independent Movies   \n",
       "8802        Cult Movies, Dramas, Thrillers   \n",
       "8804               Comedies, Horror Movies   \n",
       "8805    Children & Family Movies, Comedies   \n",
       "\n",
       "                                            description  \n",
       "0     As her father nears the end of his life, filmm...  \n",
       "9     A woman adjusting to life after a loss contend...  \n",
       "15    Students of color navigate the daily slights a...  \n",
       "27    Mourning the loss of their beloved junior high...  \n",
       "28    A family’s idyllic suburban life shatters when...  \n",
       "...                                                 ...  \n",
       "8790  An Israeli counterterrorism soldier with a sec...  \n",
       "8791  When a divorced writer gets a letter from an o...  \n",
       "8802  A political cartoonist, a crime reporter and a...  \n",
       "8804  Looking to survive in a world taken over by zo...  \n",
       "8805  Dragged from civilian life, a former superhero...  \n",
       "\n",
       "[2452 rows x 12 columns]"
      ]
     },
     "execution_count": 13,
     "metadata": {},
     "output_type": "execute_result"
    }
   ],
   "source": [
    "# filtrar shows con contry = United States y release_year = 2005\n",
    "filtro_show = (df_netflix['country'] == 'United States') & (df_netflix['release_year'] > 2005)\n",
    "\n",
    "# aplicar el filtro y crear un nuevo dataframe con los resultados\n",
    "df_netflix_filtrado = df_netflix[filtro_show]\n",
    "\n",
    "# mostrar resultados\n",
    "print(\"Show de estados unidos con fecha de lanzamiento mayor a 2005:\")\n",
    "df_netflix_filtrado"
   ]
  },
  {
   "cell_type": "markdown",
   "metadata": {},
   "source": [
    "### Tipos de datos Basicos\n"
   ]
  },
  {
   "cell_type": "code",
   "execution_count": 3,
   "metadata": {},
   "outputs": [],
   "source": [
    "## 1. Tipos de Datos Básicos:\n",
    "##   - Enteros (int): Representan números enteros. Ejemplo: `edad = 25`\n",
    "##   - Flotantes (float): Representan números decimales. Ejemplo: `altura = 1.75`\n",
    "##   - Cadenas (str): Representan texto. Ejemplo: `nombre = \"Juan\"`"
   ]
  },
  {
   "cell_type": "code",
   "execution_count": 2,
   "metadata": {},
   "outputs": [],
   "source": [
    "edad = 25"
   ]
  },
  {
   "cell_type": "code",
   "execution_count": 4,
   "metadata": {},
   "outputs": [
    {
     "data": {
      "text/plain": [
       "int"
      ]
     },
     "execution_count": 4,
     "metadata": {},
     "output_type": "execute_result"
    }
   ],
   "source": [
    "type(edad)"
   ]
  },
  {
   "cell_type": "code",
   "execution_count": 5,
   "metadata": {},
   "outputs": [],
   "source": [
    "altura = 1.75"
   ]
  },
  {
   "cell_type": "code",
   "execution_count": 7,
   "metadata": {},
   "outputs": [
    {
     "data": {
      "text/plain": [
       "float"
      ]
     },
     "execution_count": 7,
     "metadata": {},
     "output_type": "execute_result"
    }
   ],
   "source": [
    "type(altura)"
   ]
  },
  {
   "cell_type": "code",
   "execution_count": 8,
   "metadata": {},
   "outputs": [],
   "source": [
    "nombre = \"Juan\""
   ]
  },
  {
   "cell_type": "code",
   "execution_count": 10,
   "metadata": {},
   "outputs": [
    {
     "data": {
      "text/plain": [
       "str"
      ]
     },
     "execution_count": 10,
     "metadata": {},
     "output_type": "execute_result"
    }
   ],
   "source": [
    "type(nombre)"
   ]
  },
  {
   "cell_type": "markdown",
   "metadata": {},
   "source": [
    "### Tipos de datos estructurados"
   ]
  },
  {
   "cell_type": "code",
   "execution_count": 11,
   "metadata": {},
   "outputs": [],
   "source": [
    "## 2. Tipos de Datos Estructurados:\n",
    "   ## - **Listas:** Colección ordenada y modificable. Ejemplo: `nombres = [\"Juan\", \"Ana\", \"Carlos\"]`\n",
    "   ## - **Tuplas:** Colección ordenada e inmutable. Ejemplo: `coordenadas = (10, 20)`\n",
    "   ## - **Diccionarios:** Colección desordenada de pares clave-valor. Ejemplo: `persona = {\"nombre\": \"Ana\", \"edad\": 30}`"
   ]
  },
  {
   "cell_type": "code",
   "execution_count": 12,
   "metadata": {},
   "outputs": [],
   "source": [
    "nombres = [\"Juan\", \"Ana\", \"Carlos\"]"
   ]
  },
  {
   "cell_type": "code",
   "execution_count": 13,
   "metadata": {},
   "outputs": [
    {
     "data": {
      "text/plain": [
       "'Juan'"
      ]
     },
     "execution_count": 13,
     "metadata": {},
     "output_type": "execute_result"
    }
   ],
   "source": [
    "nombres[0]"
   ]
  },
  {
   "cell_type": "code",
   "execution_count": 14,
   "metadata": {},
   "outputs": [
    {
     "data": {
      "text/plain": [
       "'Carlos'"
      ]
     },
     "execution_count": 14,
     "metadata": {},
     "output_type": "execute_result"
    }
   ],
   "source": [
    "nombres[2]"
   ]
  },
  {
   "cell_type": "code",
   "execution_count": 15,
   "metadata": {},
   "outputs": [],
   "source": [
    "cordenadas = (10, 20)"
   ]
  },
  {
   "cell_type": "code",
   "execution_count": 16,
   "metadata": {},
   "outputs": [
    {
     "data": {
      "text/plain": [
       "tuple"
      ]
     },
     "execution_count": 16,
     "metadata": {},
     "output_type": "execute_result"
    }
   ],
   "source": [
    "type(cordenadas)"
   ]
  },
  {
   "cell_type": "code",
   "execution_count": 17,
   "metadata": {},
   "outputs": [],
   "source": [
    "persona = {\"nombre\": \"Ana\", \"edad\": 30}"
   ]
  },
  {
   "cell_type": "code",
   "execution_count": 23,
   "metadata": {},
   "outputs": [],
   "source": [
    "import pandas as pd"
   ]
  },
  {
   "cell_type": "markdown",
   "metadata": {},
   "source": [
    "### Crear un DataFrame a partir de una lista de diccionarios"
   ]
  },
  {
   "cell_type": "code",
   "execution_count": 24,
   "metadata": {},
   "outputs": [
    {
     "data": {
      "text/html": [
       "<div>\n",
       "<style scoped>\n",
       "    .dataframe tbody tr th:only-of-type {\n",
       "        vertical-align: middle;\n",
       "    }\n",
       "\n",
       "    .dataframe tbody tr th {\n",
       "        vertical-align: top;\n",
       "    }\n",
       "\n",
       "    .dataframe thead th {\n",
       "        text-align: right;\n",
       "    }\n",
       "</style>\n",
       "<table border=\"1\" class=\"dataframe\">\n",
       "  <thead>\n",
       "    <tr style=\"text-align: right;\">\n",
       "      <th></th>\n",
       "      <th>nombre</th>\n",
       "      <th>Edad</th>\n",
       "      <th>ciudad</th>\n",
       "    </tr>\n",
       "  </thead>\n",
       "  <tbody>\n",
       "    <tr>\n",
       "      <th>0</th>\n",
       "      <td>Juan</td>\n",
       "      <td>25</td>\n",
       "      <td>Ciudad A</td>\n",
       "    </tr>\n",
       "    <tr>\n",
       "      <th>1</th>\n",
       "      <td>Ana</td>\n",
       "      <td>30</td>\n",
       "      <td>Ciudad B</td>\n",
       "    </tr>\n",
       "    <tr>\n",
       "      <th>2</th>\n",
       "      <td>Carlos</td>\n",
       "      <td>35</td>\n",
       "      <td>Ciudad A</td>\n",
       "    </tr>\n",
       "  </tbody>\n",
       "</table>\n",
       "</div>"
      ],
      "text/plain": [
       "   nombre  Edad    ciudad\n",
       "0    Juan    25  Ciudad A\n",
       "1     Ana    30  Ciudad B\n",
       "2  Carlos    35  Ciudad A"
      ]
     },
     "execution_count": 24,
     "metadata": {},
     "output_type": "execute_result"
    }
   ],
   "source": [
    "# Lista de diccionarios con datos de personas\n",
    "datos_personas = [\n",
    "                   {\"nombre\": \"Juan\", \"Edad\": 25, \"ciudad\": \"Ciudad A\"},\n",
    "                   {\"nombre\": \"Ana\", \"Edad\": 30, \"ciudad\": \"Ciudad B\"},\n",
    "                   {\"nombre\": \"Carlos\", \"Edad\": 35, \"ciudad\": \"Ciudad A\"}\n",
    "                    ] \n",
    "# Crear un DataFrame a partir de la lista de diccionarios\n",
    "df_personas = pd.DataFrame(datos_personas)\n",
    "\n",
    "# Mostrar el DataFrame\n",
    "df_personas"
   ]
  },
  {
   "cell_type": "markdown",
   "metadata": {},
   "source": [
    "### Tipos de Datos Booleanos:"
   ]
  },
  {
   "cell_type": "code",
   "execution_count": 25,
   "metadata": {},
   "outputs": [],
   "source": [
    " ## Bool:** Representa valores de verdad, `True` o `False`. Ejemplo: `es_mayor_edad = True`"
   ]
  },
  {
   "cell_type": "code",
   "execution_count": 28,
   "metadata": {},
   "outputs": [],
   "source": [
    "ejemplo_boleano = True"
   ]
  },
  {
   "cell_type": "code",
   "execution_count": 30,
   "metadata": {},
   "outputs": [
    {
     "data": {
      "text/plain": [
       "bool"
      ]
     },
     "execution_count": 30,
     "metadata": {},
     "output_type": "execute_result"
    }
   ],
   "source": [
    "type(ejemplo_boleano)"
   ]
  },
  {
   "cell_type": "markdown",
   "metadata": {},
   "source": [
    "### Librería NumPy para Datos Numéricos:"
   ]
  },
  {
   "cell_type": "code",
   "execution_count": 31,
   "metadata": {},
   "outputs": [],
   "source": [
    "## Librería NumPy para Datos Numéricos:**\n",
    "##   - Importar NumPy: `import numpy as np`\n",
    "##   - Crear un array NumPy: `edades = np.array([25, 30, 35])`\n",
    "##   - Realizar cálculos matemáticos: `media = np.mean(edades)`"
   ]
  },
  {
   "cell_type": "code",
   "execution_count": 1,
   "metadata": {},
   "outputs": [],
   "source": [
    "import numpy as np"
   ]
  },
  {
   "cell_type": "code",
   "execution_count": 2,
   "metadata": {},
   "outputs": [],
   "source": [
    "edades = np.array([25, 30, 35])"
   ]
  },
  {
   "cell_type": "code",
   "execution_count": 3,
   "metadata": {},
   "outputs": [],
   "source": [
    "media = np.mean(edades)"
   ]
  },
  {
   "cell_type": "code",
   "execution_count": 4,
   "metadata": {},
   "outputs": [
    {
     "name": "stdout",
     "output_type": "stream",
     "text": [
      "30.0\n"
     ]
    }
   ],
   "source": [
    "print(media)"
   ]
  },
  {
   "cell_type": "markdown",
   "metadata": {},
   "source": [
    "### Ejercicios prácticos"
   ]
  },
  {
   "cell_type": "markdown",
   "metadata": {},
   "source": [
    "#### 1er Ejercicio - Listas"
   ]
  },
  {
   "cell_type": "code",
   "execution_count": 5,
   "metadata": {},
   "outputs": [
    {
     "name": "stdout",
     "output_type": "stream",
     "text": [
      "Lista después de agregar un nombre: ['Juan', 'Ana', 'Carlos', 'Luis']\n",
      "Lista después de eliminar el segundo nombre: ['Juan', 'Carlos', 'Luis']\n"
     ]
    }
   ],
   "source": [
    "## Manipular una lista de nombres, agregar o eliminar elementos:\n",
    "\n",
    "# Lista de nombres inicial\n",
    "nombres = [\"Juan\", \"Ana\", \"Carlos\"]\n",
    "\n",
    "# Agregar un nuevo nombre al final de la lista\n",
    "nombres.append(\"Luis\")\n",
    "\n",
    "# Mostrar la lista después de la adición\n",
    "print(\"Lista después de agregar un nombre:\", nombres)\n",
    "\n",
    "# Posiciones dentro de una lista, Python en las listas siempre arranca a contar desde 0\n",
    "#Si quiero seleccionar a Juan deberia utilizar \n",
    "nombres[0]\n",
    "\n",
    "# Eliminar el segundo nombre de la lista\n",
    "nombres.pop(1)\n",
    "\n",
    "# Mostrar la lista después de la eliminación\n",
    "print(\"Lista después de eliminar el segundo nombre:\", nombres)"
   ]
  },
  {
   "cell_type": "markdown",
   "metadata": {},
   "source": [
    "#### 2do Ejercicio - Diccionarios\n"
   ]
  },
  {
   "cell_type": "code",
   "execution_count": 7,
   "metadata": {},
   "outputs": [],
   "source": [
    "## Utilizar un diccionario para representar información de un estudiante:**\n",
    "\n",
    "# Datos del estudiante en un diccionario\n",
    "\n",
    "estudiante = {\n",
    "    \"nombres\": \"María\",\n",
    "    \"edad\": 20,\n",
    "    \"cursos\": [\"Matematicas\", \"Historia\", \"Ingles\"],\n",
    "    \"promedio\": 8.5,\n",
    "}\n"
   ]
  },
  {
   "cell_type": "markdown",
   "metadata": {},
   "source": [
    "## Importar librerias\n"
   ]
  },
  {
   "cell_type": "code",
   "execution_count": 12,
   "metadata": {},
   "outputs": [
    {
     "name": "stdout",
     "output_type": "stream",
     "text": [
      "Requirement already satisfied: pandas in c:\\users\\xoot\\appdata\\local\\programs\\python\\python313\\lib\\site-packages (2.2.3)\n",
      "Requirement already satisfied: numpy in c:\\users\\xoot\\appdata\\local\\programs\\python\\python313\\lib\\site-packages (2.2.3)\n",
      "Requirement already satisfied: matplotlib in c:\\users\\xoot\\appdata\\local\\programs\\python\\python313\\lib\\site-packages (3.10.0)\n",
      "Requirement already satisfied: python-dateutil>=2.8.2 in c:\\users\\xoot\\appdata\\roaming\\python\\python313\\site-packages (from pandas) (2.9.0.post0)\n",
      "Requirement already satisfied: pytz>=2020.1 in c:\\users\\xoot\\appdata\\local\\programs\\python\\python313\\lib\\site-packages (from pandas) (2025.1)\n",
      "Requirement already satisfied: tzdata>=2022.7 in c:\\users\\xoot\\appdata\\local\\programs\\python\\python313\\lib\\site-packages (from pandas) (2025.1)\n",
      "Requirement already satisfied: contourpy>=1.0.1 in c:\\users\\xoot\\appdata\\local\\programs\\python\\python313\\lib\\site-packages (from matplotlib) (1.3.1)\n",
      "Requirement already satisfied: cycler>=0.10 in c:\\users\\xoot\\appdata\\local\\programs\\python\\python313\\lib\\site-packages (from matplotlib) (0.12.1)\n",
      "Requirement already satisfied: fonttools>=4.22.0 in c:\\users\\xoot\\appdata\\local\\programs\\python\\python313\\lib\\site-packages (from matplotlib) (4.56.0)\n",
      "Requirement already satisfied: kiwisolver>=1.3.1 in c:\\users\\xoot\\appdata\\local\\programs\\python\\python313\\lib\\site-packages (from matplotlib) (1.4.8)\n",
      "Requirement already satisfied: packaging>=20.0 in c:\\users\\xoot\\appdata\\roaming\\python\\python313\\site-packages (from matplotlib) (24.2)\n",
      "Requirement already satisfied: pillow>=8 in c:\\users\\xoot\\appdata\\local\\programs\\python\\python313\\lib\\site-packages (from matplotlib) (11.1.0)\n",
      "Requirement already satisfied: pyparsing>=2.3.1 in c:\\users\\xoot\\appdata\\local\\programs\\python\\python313\\lib\\site-packages (from matplotlib) (3.2.1)\n",
      "Requirement already satisfied: six>=1.5 in c:\\users\\xoot\\appdata\\roaming\\python\\python313\\site-packages (from python-dateutil>=2.8.2->pandas) (1.17.0)\n",
      "Note: you may need to restart the kernel to use updated packages.\n"
     ]
    }
   ],
   "source": [
    "### Importar librerias\n",
    "%pip install pandas numpy matplotlib\n",
    "\n",
    "import numpy as np\n",
    "import matplotlib as plt\n",
    "import matplotlib.pyplot as plt"
   ]
  },
  {
   "cell_type": "code",
   "execution_count": 9,
   "metadata": {},
   "outputs": [],
   "source": [
    "salaries = pd.read_csv(\"linkedin-jobs-usa.csv\")"
   ]
  },
  {
   "cell_type": "code",
   "execution_count": 11,
   "metadata": {},
   "outputs": [
    {
     "data": {
      "text/plain": [
       "(2845, 9)"
      ]
     },
     "execution_count": 11,
     "metadata": {},
     "output_type": "execute_result"
    }
   ],
   "source": [
    "salaries.shape"
   ]
  },
  {
   "cell_type": "code",
   "execution_count": 12,
   "metadata": {},
   "outputs": [
    {
     "data": {
      "text/html": [
       "<div>\n",
       "<style scoped>\n",
       "    .dataframe tbody tr th:only-of-type {\n",
       "        vertical-align: middle;\n",
       "    }\n",
       "\n",
       "    .dataframe tbody tr th {\n",
       "        vertical-align: top;\n",
       "    }\n",
       "\n",
       "    .dataframe thead th {\n",
       "        text-align: right;\n",
       "    }\n",
       "</style>\n",
       "<table border=\"1\" class=\"dataframe\">\n",
       "  <thead>\n",
       "    <tr style=\"text-align: right;\">\n",
       "      <th></th>\n",
       "      <th>title</th>\n",
       "      <th>company</th>\n",
       "      <th>description</th>\n",
       "      <th>onsite_remote</th>\n",
       "      <th>salary</th>\n",
       "      <th>location</th>\n",
       "      <th>criteria</th>\n",
       "      <th>posted_date</th>\n",
       "      <th>link</th>\n",
       "    </tr>\n",
       "  </thead>\n",
       "  <tbody>\n",
       "    <tr>\n",
       "      <th>0</th>\n",
       "      <td>Data Analyst - Recent Graduate</td>\n",
       "      <td>PayPal</td>\n",
       "      <td>At PayPal (NASDAQ: PYPL), we believe that ever...</td>\n",
       "      <td>onsite</td>\n",
       "      <td>NaN</td>\n",
       "      <td>Buffalo-Niagara Falls Area</td>\n",
       "      <td>[{'Seniority level': 'Not Applicable'}, {'Empl...</td>\n",
       "      <td>2022-11-22</td>\n",
       "      <td>https://www.linkedin.com/jobs/view/data-analys...</td>\n",
       "    </tr>\n",
       "    <tr>\n",
       "      <th>1</th>\n",
       "      <td>Data Analyst - Recent Graduate</td>\n",
       "      <td>PayPal</td>\n",
       "      <td>At PayPal (NASDAQ: PYPL), we believe that ever...</td>\n",
       "      <td>onsite</td>\n",
       "      <td>NaN</td>\n",
       "      <td>San Jose, CA</td>\n",
       "      <td>[{'Seniority level': 'Not Applicable'}, {'Empl...</td>\n",
       "      <td>2022-11-22</td>\n",
       "      <td>https://www.linkedin.com/jobs/view/data-analys...</td>\n",
       "    </tr>\n",
       "    <tr>\n",
       "      <th>2</th>\n",
       "      <td>Data Analyst</td>\n",
       "      <td>PayPal</td>\n",
       "      <td>At PayPal (NASDAQ: PYPL), we believe that ever...</td>\n",
       "      <td>onsite</td>\n",
       "      <td>NaN</td>\n",
       "      <td>Texas, United States</td>\n",
       "      <td>[{'Seniority level': 'Not Applicable'}, {'Empl...</td>\n",
       "      <td>2022-11-17</td>\n",
       "      <td>https://www.linkedin.com/jobs/view/data-analys...</td>\n",
       "    </tr>\n",
       "    <tr>\n",
       "      <th>3</th>\n",
       "      <td>Data Analyst</td>\n",
       "      <td>PayPal</td>\n",
       "      <td>At PayPal (NASDAQ: PYPL), we believe that ever...</td>\n",
       "      <td>onsite</td>\n",
       "      <td>NaN</td>\n",
       "      <td>Illinois, United States</td>\n",
       "      <td>[{'Seniority level': 'Not Applicable'}, {'Empl...</td>\n",
       "      <td>2022-11-17</td>\n",
       "      <td>https://www.linkedin.com/jobs/view/data-analys...</td>\n",
       "    </tr>\n",
       "    <tr>\n",
       "      <th>4</th>\n",
       "      <td>Entry-Level Data Analyst</td>\n",
       "      <td>The Federal Savings Bank</td>\n",
       "      <td>The Federal Savings Bank, a national bank and ...</td>\n",
       "      <td>onsite</td>\n",
       "      <td>NaN</td>\n",
       "      <td>Chicago, IL</td>\n",
       "      <td>[{'Seniority level': 'Entry level'}, {'Employm...</td>\n",
       "      <td>2022-11-17</td>\n",
       "      <td>https://www.linkedin.com/jobs/view/entry-level...</td>\n",
       "    </tr>\n",
       "  </tbody>\n",
       "</table>\n",
       "</div>"
      ],
      "text/plain": [
       "                            title                   company  \\\n",
       "0  Data Analyst - Recent Graduate                    PayPal   \n",
       "1  Data Analyst - Recent Graduate                    PayPal   \n",
       "2                    Data Analyst                    PayPal   \n",
       "3                    Data Analyst                    PayPal   \n",
       "4        Entry-Level Data Analyst  The Federal Savings Bank   \n",
       "\n",
       "                                         description onsite_remote salary  \\\n",
       "0  At PayPal (NASDAQ: PYPL), we believe that ever...        onsite    NaN   \n",
       "1  At PayPal (NASDAQ: PYPL), we believe that ever...        onsite    NaN   \n",
       "2  At PayPal (NASDAQ: PYPL), we believe that ever...        onsite    NaN   \n",
       "3  At PayPal (NASDAQ: PYPL), we believe that ever...        onsite    NaN   \n",
       "4  The Federal Savings Bank, a national bank and ...        onsite    NaN   \n",
       "\n",
       "                     location  \\\n",
       "0  Buffalo-Niagara Falls Area   \n",
       "1                San Jose, CA   \n",
       "2        Texas, United States   \n",
       "3     Illinois, United States   \n",
       "4                 Chicago, IL   \n",
       "\n",
       "                                            criteria posted_date  \\\n",
       "0  [{'Seniority level': 'Not Applicable'}, {'Empl...  2022-11-22   \n",
       "1  [{'Seniority level': 'Not Applicable'}, {'Empl...  2022-11-22   \n",
       "2  [{'Seniority level': 'Not Applicable'}, {'Empl...  2022-11-17   \n",
       "3  [{'Seniority level': 'Not Applicable'}, {'Empl...  2022-11-17   \n",
       "4  [{'Seniority level': 'Entry level'}, {'Employm...  2022-11-17   \n",
       "\n",
       "                                                link  \n",
       "0  https://www.linkedin.com/jobs/view/data-analys...  \n",
       "1  https://www.linkedin.com/jobs/view/data-analys...  \n",
       "2  https://www.linkedin.com/jobs/view/data-analys...  \n",
       "3  https://www.linkedin.com/jobs/view/data-analys...  \n",
       "4  https://www.linkedin.com/jobs/view/entry-level...  "
      ]
     },
     "execution_count": 12,
     "metadata": {},
     "output_type": "execute_result"
    }
   ],
   "source": [
    "salaries.head()"
   ]
  },
  {
   "cell_type": "code",
   "execution_count": 13,
   "metadata": {},
   "outputs": [
    {
     "name": "stdout",
     "output_type": "stream",
     "text": [
      "<class 'pandas.core.frame.DataFrame'>\n",
      "RangeIndex: 2845 entries, 0 to 2844\n",
      "Data columns (total 9 columns):\n",
      " #   Column         Non-Null Count  Dtype \n",
      "---  ------         --------------  ----- \n",
      " 0   title          2845 non-null   object\n",
      " 1   company        2845 non-null   object\n",
      " 2   description    2845 non-null   object\n",
      " 3   onsite_remote  2845 non-null   object\n",
      " 4   salary         929 non-null    object\n",
      " 5   location       2845 non-null   object\n",
      " 6   criteria       2845 non-null   object\n",
      " 7   posted_date    2845 non-null   object\n",
      " 8   link           2845 non-null   object\n",
      "dtypes: object(9)\n",
      "memory usage: 200.2+ KB\n"
     ]
    }
   ],
   "source": [
    "salaries.info()"
   ]
  },
  {
   "cell_type": "markdown",
   "metadata": {},
   "source": [
    "### Tratamiento de duplicados"
   ]
  },
  {
   "cell_type": "code",
   "execution_count": 14,
   "metadata": {},
   "outputs": [
    {
     "data": {
      "text/html": [
       "<div>\n",
       "<style scoped>\n",
       "    .dataframe tbody tr th:only-of-type {\n",
       "        vertical-align: middle;\n",
       "    }\n",
       "\n",
       "    .dataframe tbody tr th {\n",
       "        vertical-align: top;\n",
       "    }\n",
       "\n",
       "    .dataframe thead th {\n",
       "        text-align: right;\n",
       "    }\n",
       "</style>\n",
       "<table border=\"1\" class=\"dataframe\">\n",
       "  <thead>\n",
       "    <tr style=\"text-align: right;\">\n",
       "      <th></th>\n",
       "      <th>title</th>\n",
       "      <th>company</th>\n",
       "      <th>description</th>\n",
       "      <th>onsite_remote</th>\n",
       "      <th>salary</th>\n",
       "      <th>location</th>\n",
       "      <th>criteria</th>\n",
       "      <th>posted_date</th>\n",
       "      <th>link</th>\n",
       "    </tr>\n",
       "  </thead>\n",
       "  <tbody>\n",
       "    <tr>\n",
       "      <th>0</th>\n",
       "      <td>Data Analyst - Recent Graduate</td>\n",
       "      <td>PayPal</td>\n",
       "      <td>At PayPal (NASDAQ: PYPL), we believe that ever...</td>\n",
       "      <td>onsite</td>\n",
       "      <td>NaN</td>\n",
       "      <td>Buffalo-Niagara Falls Area</td>\n",
       "      <td>[{'Seniority level': 'Not Applicable'}, {'Empl...</td>\n",
       "      <td>2022-11-22</td>\n",
       "      <td>https://www.linkedin.com/jobs/view/data-analys...</td>\n",
       "    </tr>\n",
       "    <tr>\n",
       "      <th>1</th>\n",
       "      <td>Data Analyst - Recent Graduate</td>\n",
       "      <td>PayPal</td>\n",
       "      <td>At PayPal (NASDAQ: PYPL), we believe that ever...</td>\n",
       "      <td>onsite</td>\n",
       "      <td>NaN</td>\n",
       "      <td>San Jose, CA</td>\n",
       "      <td>[{'Seniority level': 'Not Applicable'}, {'Empl...</td>\n",
       "      <td>2022-11-22</td>\n",
       "      <td>https://www.linkedin.com/jobs/view/data-analys...</td>\n",
       "    </tr>\n",
       "    <tr>\n",
       "      <th>2</th>\n",
       "      <td>Data Analyst</td>\n",
       "      <td>PayPal</td>\n",
       "      <td>At PayPal (NASDAQ: PYPL), we believe that ever...</td>\n",
       "      <td>onsite</td>\n",
       "      <td>NaN</td>\n",
       "      <td>Texas, United States</td>\n",
       "      <td>[{'Seniority level': 'Not Applicable'}, {'Empl...</td>\n",
       "      <td>2022-11-17</td>\n",
       "      <td>https://www.linkedin.com/jobs/view/data-analys...</td>\n",
       "    </tr>\n",
       "    <tr>\n",
       "      <th>3</th>\n",
       "      <td>Data Analyst</td>\n",
       "      <td>PayPal</td>\n",
       "      <td>At PayPal (NASDAQ: PYPL), we believe that ever...</td>\n",
       "      <td>onsite</td>\n",
       "      <td>NaN</td>\n",
       "      <td>Illinois, United States</td>\n",
       "      <td>[{'Seniority level': 'Not Applicable'}, {'Empl...</td>\n",
       "      <td>2022-11-17</td>\n",
       "      <td>https://www.linkedin.com/jobs/view/data-analys...</td>\n",
       "    </tr>\n",
       "    <tr>\n",
       "      <th>4</th>\n",
       "      <td>Entry-Level Data Analyst</td>\n",
       "      <td>The Federal Savings Bank</td>\n",
       "      <td>The Federal Savings Bank, a national bank and ...</td>\n",
       "      <td>onsite</td>\n",
       "      <td>NaN</td>\n",
       "      <td>Chicago, IL</td>\n",
       "      <td>[{'Seniority level': 'Entry level'}, {'Employm...</td>\n",
       "      <td>2022-11-17</td>\n",
       "      <td>https://www.linkedin.com/jobs/view/entry-level...</td>\n",
       "    </tr>\n",
       "    <tr>\n",
       "      <th>...</th>\n",
       "      <td>...</td>\n",
       "      <td>...</td>\n",
       "      <td>...</td>\n",
       "      <td>...</td>\n",
       "      <td>...</td>\n",
       "      <td>...</td>\n",
       "      <td>...</td>\n",
       "      <td>...</td>\n",
       "      <td>...</td>\n",
       "    </tr>\n",
       "    <tr>\n",
       "      <th>2840</th>\n",
       "      <td>Junior Data Analyst</td>\n",
       "      <td>Iris Software Inc.</td>\n",
       "      <td>Iris's client, one of the world's largest fina...</td>\n",
       "      <td>hybrid</td>\n",
       "      <td>NaN</td>\n",
       "      <td>Texas, United States</td>\n",
       "      <td>[{'Seniority level': 'Mid-Senior level'}, {'Em...</td>\n",
       "      <td>2022-10-21</td>\n",
       "      <td>https://www.linkedin.com/jobs/view/junior-data...</td>\n",
       "    </tr>\n",
       "    <tr>\n",
       "      <th>2841</th>\n",
       "      <td>Data Analyst (SQL)</td>\n",
       "      <td>Marwood Group</td>\n",
       "      <td>The Marwood Group (Marwood) is a leading healt...</td>\n",
       "      <td>hybrid</td>\n",
       "      <td>$75,000.00\\r\\n            -\\r\\n            $95...</td>\n",
       "      <td>New York City Metropolitan Area</td>\n",
       "      <td>[{'Seniority level': 'Mid-Senior level'}, {'Em...</td>\n",
       "      <td>2022-10-26</td>\n",
       "      <td>https://www.linkedin.com/jobs/view/data-analys...</td>\n",
       "    </tr>\n",
       "    <tr>\n",
       "      <th>2842</th>\n",
       "      <td>Data Analyst</td>\n",
       "      <td>SmartSense by Digi</td>\n",
       "      <td>Join a high-performing, tight-knit team at a f...</td>\n",
       "      <td>hybrid</td>\n",
       "      <td>NaN</td>\n",
       "      <td>Mishawaka, IN</td>\n",
       "      <td>[{'Seniority level': 'Associate'}, {'Employmen...</td>\n",
       "      <td>2022-11-17</td>\n",
       "      <td>https://www.linkedin.com/jobs/view/data-analys...</td>\n",
       "    </tr>\n",
       "    <tr>\n",
       "      <th>2843</th>\n",
       "      <td>Data Analyst</td>\n",
       "      <td>Synergy Search</td>\n",
       "      <td>Nashville (Berry Hill) based company looking t...</td>\n",
       "      <td>hybrid</td>\n",
       "      <td>$85,000.00\\r\\n            -\\r\\n            $95...</td>\n",
       "      <td>Nashville Metropolitan Area</td>\n",
       "      <td>[{'Seniority level': 'Not Applicable'}, {'Empl...</td>\n",
       "      <td>2022-11-14</td>\n",
       "      <td>https://www.linkedin.com/jobs/view/data-analys...</td>\n",
       "    </tr>\n",
       "    <tr>\n",
       "      <th>2844</th>\n",
       "      <td>Data Analyst</td>\n",
       "      <td>Insight Global</td>\n",
       "      <td>Overview - Minimum 5 years in a quantitative d...</td>\n",
       "      <td>hybrid</td>\n",
       "      <td>$130,000.00\\r\\n            -\\r\\n            $1...</td>\n",
       "      <td>Burbank, CA</td>\n",
       "      <td>[{'Seniority level': 'Mid-Senior level'}, {'Em...</td>\n",
       "      <td>2022-11-14</td>\n",
       "      <td>https://www.linkedin.com/jobs/view/data-analys...</td>\n",
       "    </tr>\n",
       "  </tbody>\n",
       "</table>\n",
       "<p>2845 rows × 9 columns</p>\n",
       "</div>"
      ],
      "text/plain": [
       "                               title                   company  \\\n",
       "0     Data Analyst - Recent Graduate                    PayPal   \n",
       "1     Data Analyst - Recent Graduate                    PayPal   \n",
       "2                       Data Analyst                    PayPal   \n",
       "3                       Data Analyst                    PayPal   \n",
       "4           Entry-Level Data Analyst  The Federal Savings Bank   \n",
       "...                              ...                       ...   \n",
       "2840             Junior Data Analyst        Iris Software Inc.   \n",
       "2841              Data Analyst (SQL)             Marwood Group   \n",
       "2842                    Data Analyst        SmartSense by Digi   \n",
       "2843                    Data Analyst            Synergy Search   \n",
       "2844                    Data Analyst            Insight Global   \n",
       "\n",
       "                                            description onsite_remote  \\\n",
       "0     At PayPal (NASDAQ: PYPL), we believe that ever...        onsite   \n",
       "1     At PayPal (NASDAQ: PYPL), we believe that ever...        onsite   \n",
       "2     At PayPal (NASDAQ: PYPL), we believe that ever...        onsite   \n",
       "3     At PayPal (NASDAQ: PYPL), we believe that ever...        onsite   \n",
       "4     The Federal Savings Bank, a national bank and ...        onsite   \n",
       "...                                                 ...           ...   \n",
       "2840  Iris's client, one of the world's largest fina...        hybrid   \n",
       "2841  The Marwood Group (Marwood) is a leading healt...        hybrid   \n",
       "2842  Join a high-performing, tight-knit team at a f...        hybrid   \n",
       "2843  Nashville (Berry Hill) based company looking t...        hybrid   \n",
       "2844  Overview - Minimum 5 years in a quantitative d...        hybrid   \n",
       "\n",
       "                                                 salary  \\\n",
       "0                                                   NaN   \n",
       "1                                                   NaN   \n",
       "2                                                   NaN   \n",
       "3                                                   NaN   \n",
       "4                                                   NaN   \n",
       "...                                                 ...   \n",
       "2840                                                NaN   \n",
       "2841  $75,000.00\\r\\n            -\\r\\n            $95...   \n",
       "2842                                                NaN   \n",
       "2843  $85,000.00\\r\\n            -\\r\\n            $95...   \n",
       "2844  $130,000.00\\r\\n            -\\r\\n            $1...   \n",
       "\n",
       "                             location  \\\n",
       "0          Buffalo-Niagara Falls Area   \n",
       "1                        San Jose, CA   \n",
       "2                Texas, United States   \n",
       "3             Illinois, United States   \n",
       "4                         Chicago, IL   \n",
       "...                               ...   \n",
       "2840             Texas, United States   \n",
       "2841  New York City Metropolitan Area   \n",
       "2842                    Mishawaka, IN   \n",
       "2843      Nashville Metropolitan Area   \n",
       "2844                      Burbank, CA   \n",
       "\n",
       "                                               criteria posted_date  \\\n",
       "0     [{'Seniority level': 'Not Applicable'}, {'Empl...  2022-11-22   \n",
       "1     [{'Seniority level': 'Not Applicable'}, {'Empl...  2022-11-22   \n",
       "2     [{'Seniority level': 'Not Applicable'}, {'Empl...  2022-11-17   \n",
       "3     [{'Seniority level': 'Not Applicable'}, {'Empl...  2022-11-17   \n",
       "4     [{'Seniority level': 'Entry level'}, {'Employm...  2022-11-17   \n",
       "...                                                 ...         ...   \n",
       "2840  [{'Seniority level': 'Mid-Senior level'}, {'Em...  2022-10-21   \n",
       "2841  [{'Seniority level': 'Mid-Senior level'}, {'Em...  2022-10-26   \n",
       "2842  [{'Seniority level': 'Associate'}, {'Employmen...  2022-11-17   \n",
       "2843  [{'Seniority level': 'Not Applicable'}, {'Empl...  2022-11-14   \n",
       "2844  [{'Seniority level': 'Mid-Senior level'}, {'Em...  2022-11-14   \n",
       "\n",
       "                                                   link  \n",
       "0     https://www.linkedin.com/jobs/view/data-analys...  \n",
       "1     https://www.linkedin.com/jobs/view/data-analys...  \n",
       "2     https://www.linkedin.com/jobs/view/data-analys...  \n",
       "3     https://www.linkedin.com/jobs/view/data-analys...  \n",
       "4     https://www.linkedin.com/jobs/view/entry-level...  \n",
       "...                                                 ...  \n",
       "2840  https://www.linkedin.com/jobs/view/junior-data...  \n",
       "2841  https://www.linkedin.com/jobs/view/data-analys...  \n",
       "2842  https://www.linkedin.com/jobs/view/data-analys...  \n",
       "2843  https://www.linkedin.com/jobs/view/data-analys...  \n",
       "2844  https://www.linkedin.com/jobs/view/data-analys...  \n",
       "\n",
       "[2845 rows x 9 columns]"
      ]
     },
     "execution_count": 14,
     "metadata": {},
     "output_type": "execute_result"
    }
   ],
   "source": [
    "salaries.drop_duplicates()"
   ]
  },
  {
   "cell_type": "markdown",
   "metadata": {},
   "source": [
    "### Tratamiento de Valores Nulos"
   ]
  },
  {
   "cell_type": "markdown",
   "metadata": {},
   "source": [
    "#### 1era Opción: Eliminar todos los valores nulos"
   ]
  },
  {
   "cell_type": "code",
   "execution_count": 17,
   "metadata": {},
   "outputs": [],
   "source": [
    "# Eliminar filas que contienen al menos un valor nulo\n",
    "df_sin_nulos = salaries.dropna()\n",
    "\n",
    "# Eliminar columnas que contienen al menos un valor nulo\n",
    "df_sin_nulos_columnas = salaries.dropna(axis=1)"
   ]
  },
  {
   "cell_type": "code",
   "execution_count": null,
   "metadata": {},
   "outputs": [
    {
     "data": {
      "text/plain": [
       "(929, 9)"
      ]
     },
     "execution_count": 18,
     "metadata": {},
     "output_type": "execute_result"
    }
   ],
   "source": [
    "df_sin_nulos.shapeimport pandas as pd\n",
    "import numpy as np\n",
    "\n",
    "# Crear un DataFrame de ejemplo\n",
    "data = {\n",
    "    'A': [1, 2, np.nan, 4],\n",
    "    'B': [np.nan, 2, 3, 4],\n",
    "    'C': [1, 2, 3, np.nan]\n",
    "}\n",
    "df = pd.DataFrame(data)\n",
    "\n",
    "# Eliminar filas con cualquier valor nulo\n",
    "df_sin_nulos = df.dropna()\n",
    "print(df_sin_nulos)"
   ]
  },
  {
   "cell_type": "code",
   "execution_count": 20,
   "metadata": {},
   "outputs": [],
   "source": [
    "# Eliminar columnas que contienen al menos un valor nulo\n",
    "df_sin_nulos_columnas = salaries.dropna(axis=1)"
   ]
  },
  {
   "cell_type": "code",
   "execution_count": 21,
   "metadata": {},
   "outputs": [
    {
     "data": {
      "text/plain": [
       "(2845, 8)"
      ]
     },
     "execution_count": 21,
     "metadata": {},
     "output_type": "execute_result"
    }
   ],
   "source": [
    "df_sin_nulos_columnas.shape"
   ]
  },
  {
   "cell_type": "markdown",
   "metadata": {},
   "source": [
    "### Transformación de datos\n",
    "#### 2da Opción: Reemplazar NaNs por la media\n",
    "##### Parsing (\"Parseo\") de la columna Salary"
   ]
  },
  {
   "cell_type": "code",
   "execution_count": 22,
   "metadata": {},
   "outputs": [
    {
     "data": {
      "text/plain": [
       "8       $100,000.00\\r\\n            -\\r\\n            $1...\n",
       "24      $50,000.00\\r\\n            -\\r\\n            $55...\n",
       "35      $100,000.00\\r\\n            -\\r\\n            $1...\n",
       "61      $100,000.00\\r\\n            -\\r\\n            $1...\n",
       "88      $100,000.00\\r\\n            -\\r\\n            $1...\n",
       "                              ...                        \n",
       "2834        $30.00\\r\\n            -\\r\\n            $33.00\n",
       "2836    $120,000.00\\r\\n            -\\r\\n            $1...\n",
       "2841    $75,000.00\\r\\n            -\\r\\n            $95...\n",
       "2843    $85,000.00\\r\\n            -\\r\\n            $95...\n",
       "2844    $130,000.00\\r\\n            -\\r\\n            $1...\n",
       "Name: salary, Length: 929, dtype: object"
      ]
     },
     "execution_count": 22,
     "metadata": {},
     "output_type": "execute_result"
    }
   ],
   "source": [
    "df_sin_nulos['salary']"
   ]
  },
  {
   "cell_type": "code",
   "execution_count": null,
   "metadata": {},
   "outputs": [],
   "source": [
    "## Este código toma una columna `'salary'` que contiene valores de salario en formato de cadena,\n",
    "## elimina cualquier caracter no numérico, extrae los dígitos y convierte la columna resultante en valores numéricos de tipo float.\n",
    "## El resultado se almacena en una nueva columna llamada `'salary_numeric'`.\n",
    "## Esto es útil cuando la columna `'salary'` inicial contiene caracteres no numéricos y se desea trabajar con los salarios como valores numéricos.\n",
    "df_sin_nulos[\"salary_numeric\"] = (\n",
    "    df_sin_nulos[\"salary\"]\n",
    "    .replace(\"[^\\d.]\", \"\", regex=True)\n",
    "    .str.extract(\"(\\d+)\")\n",
    "    .astype(float)\n",
    ")"
   ]
  },
  {
   "cell_type": "code",
   "execution_count": 13,
   "metadata": {},
   "outputs": [
    {
     "name": "stdout",
     "output_type": "stream",
     "text": [
      "Información general del DataFrame:\n",
      "<class 'pandas.core.frame.DataFrame'>\n",
      "RangeIndex: 2845 entries, 0 to 2844\n",
      "Data columns (total 9 columns):\n",
      " #   Column         Non-Null Count  Dtype \n",
      "---  ------         --------------  ----- \n",
      " 0   title          2845 non-null   object\n",
      " 1   company        2845 non-null   object\n",
      " 2   description    2845 non-null   object\n",
      " 3   onsite_remote  2845 non-null   object\n",
      " 4   salary         929 non-null    object\n",
      " 5   location       2845 non-null   object\n",
      " 6   criteria       2845 non-null   object\n",
      " 7   posted_date    2845 non-null   object\n",
      " 8   link           2845 non-null   object\n",
      "dtypes: object(9)\n",
      "memory usage: 200.2+ KB\n",
      "\n",
      "DataFrame con columna 'salary_numeric':\n",
      "  salary salary_clean  salary_numeric\n",
      "0                 NaN             NaN\n",
      "1                 NaN             NaN\n",
      "2                 NaN             NaN\n",
      "3                 NaN             NaN\n",
      "4                 NaN             NaN\n",
      "\n",
      "Estadísticas descriptivas de 'salary_numeric':\n",
      "count       929.000000\n",
      "mean      47949.657524\n",
      "std       47330.432492\n",
      "min          22.000000\n",
      "25%          40.000000\n",
      "50%       60000.000000\n",
      "75%       85000.000000\n",
      "max      130000.000000\n",
      "Name: salary_numeric, dtype: float64\n"
     ]
    },
    {
     "name": "stderr",
     "output_type": "stream",
     "text": [
      "<>:15: SyntaxWarning: invalid escape sequence '\\d'\n",
      "<>:15: SyntaxWarning: invalid escape sequence '\\d'\n",
      "C:\\Users\\xoot\\AppData\\Local\\Temp\\ipykernel_13268\\2052198422.py:15: SyntaxWarning: invalid escape sequence '\\d'\n",
      "  salaries['salary_clean'] = salaries['salary'].str.extract('(\\d+[\\d,\\.]*)')[0]\n"
     ]
    }
   ],
   "source": [
    "import pandas as pd\n",
    "import numpy as np\n",
    "\n",
    "# Cargar el archivo CSV\n",
    "salaries = pd.read_csv(\"linkedin-jobs-usa.csv\")\n",
    "\n",
    "# Mostrar información general del DataFrame\n",
    "print(\"Información general del DataFrame:\")\n",
    "salaries.info()\n",
    "\n",
    "# Reemplazar valores nulos con una cadena vacía en la columna 'salary'\n",
    "salaries['salary'] = salaries['salary'].fillna('')\n",
    "\n",
    "# Eliminar caracteres no numéricos y extraer solo los números\n",
    "salaries['salary_clean'] = salaries['salary'].str.extract('(\\d+[\\d,\\.]*)')[0]\n",
    "\n",
    "# Reemplazar cadenas vacías con NaN para poder convertir a float\n",
    "salaries['salary_clean'] = salaries['salary_clean'].replace('', np.nan)\n",
    "\n",
    "# Eliminar comas y convertir a float\n",
    "salaries['salary_numeric'] = salaries['salary_clean'].str.replace(',', '').astype(float)\n",
    "\n",
    "# Mostrar el DataFrame con la nueva columna 'salary_numeric'\n",
    "print(\"\\nDataFrame con columna 'salary_numeric':\")\n",
    "print(salaries[['salary', 'salary_clean', 'salary_numeric']].head())\n",
    "\n",
    "# Mostrar estadísticas descriptivas de la columna 'salary_numeric'\n",
    "print(\"\\nEstadísticas descriptivas de 'salary_numeric':\")\n",
    "print(salaries['salary_numeric'].describe())"
   ]
  },
  {
   "cell_type": "code",
   "execution_count": 14,
   "metadata": {},
   "outputs": [
    {
     "data": {
      "text/plain": [
       "count       4.000000\n",
       "mean     1626.125000\n",
       "std      1375.123048\n",
       "min         4.500000\n",
       "25%       751.125000\n",
       "50%      1750.000000\n",
       "75%      2625.000000\n",
       "max      3000.000000\n",
       "Name: salary_numeric, dtype: float64"
      ]
     },
     "execution_count": 14,
     "metadata": {},
     "output_type": "execute_result"
    }
   ],
   "source": [
    "df_sin_nulos['salary_numeric'].describe()"
   ]
  },
  {
   "cell_type": "code",
   "execution_count": 16,
   "metadata": {},
   "outputs": [
    {
     "name": "stderr",
     "output_type": "stream",
     "text": [
      "<>:16: SyntaxWarning: invalid escape sequence '\\d'\n",
      "<>:16: SyntaxWarning: invalid escape sequence '\\d'\n",
      "C:\\Users\\xoot\\AppData\\Local\\Temp\\ipykernel_13268\\122373763.py:16: SyntaxWarning: invalid escape sequence '\\d'\n",
      "  salaries['salary_clean'] = salaries['salary'].str.extract('(\\d+[\\d,\\.]*)')[0]\n"
     ]
    },
    {
     "name": "stdout",
     "output_type": "stream",
     "text": [
      "Información general del DataFrame:\n",
      "<class 'pandas.core.frame.DataFrame'>\n",
      "RangeIndex: 2845 entries, 0 to 2844\n",
      "Data columns (total 9 columns):\n",
      " #   Column         Non-Null Count  Dtype \n",
      "---  ------         --------------  ----- \n",
      " 0   title          2845 non-null   object\n",
      " 1   company        2845 non-null   object\n",
      " 2   description    2845 non-null   object\n",
      " 3   onsite_remote  2845 non-null   object\n",
      " 4   salary         929 non-null    object\n",
      " 5   location       2845 non-null   object\n",
      " 6   criteria       2845 non-null   object\n",
      " 7   posted_date    2845 non-null   object\n",
      " 8   link           2845 non-null   object\n",
      "dtypes: object(9)\n",
      "memory usage: 200.2+ KB\n",
      "\n",
      "DataFrame con columna 'salary_numeric':\n",
      "  salary salary_clean  salary_numeric\n",
      "0                 NaN             NaN\n",
      "1                 NaN             NaN\n",
      "2                 NaN             NaN\n",
      "3                 NaN             NaN\n",
      "4                 NaN             NaN\n",
      "\n",
      "Estadísticas descriptivas de 'salary_numeric':\n",
      "count       929.000000\n",
      "mean      47949.657524\n",
      "std       47330.432492\n",
      "min          22.000000\n",
      "25%          40.000000\n",
      "50%       60000.000000\n",
      "75%       85000.000000\n",
      "max      130000.000000\n",
      "Name: salary_numeric, dtype: float64\n"
     ]
    },
    {
     "data": {
      "image/png": "[encoded data removed]",
      "text/plain": [
       "<Figure size 1000x600 with 1 Axes>"
      ]
     },
     "metadata": {},
     "output_type": "display_data"
    }
   ],
   "source": [
    "import pandas as pd\n",
    "import numpy as np\n",
    "import matplotlib.pyplot as plt\n",
    "\n",
    "# Cargar el archivo CSV\n",
    "salaries = pd.read_csv(\"linkedin-jobs-usa.csv\")\n",
    "\n",
    "# Mostrar información general del DataFrame\n",
    "print(\"Información general del DataFrame:\")\n",
    "salaries.info()\n",
    "\n",
    "# Reemplazar valores nulos con una cadena vacía en la columna 'salary'\n",
    "salaries['salary'] = salaries['salary'].fillna('')\n",
    "\n",
    "# Eliminar caracteres no numéricos y extraer solo los números\n",
    "salaries['salary_clean'] = salaries['salary'].str.extract('(\\d+[\\d,\\.]*)')[0]\n",
    "\n",
    "# Reemplazar cadenas vacías con NaN para poder convertir a float\n",
    "salaries['salary_clean'] = salaries['salary_clean'].replace('', np.nan)\n",
    "\n",
    "# Eliminar comas y convertir a float\n",
    "salaries['salary_numeric'] = salaries['salary_clean'].str.replace(',', '').astype(float)\n",
    "\n",
    "# Mostrar el DataFrame con la nueva columna 'salary_numeric'\n",
    "print(\"\\nDataFrame con columna 'salary_numeric':\")\n",
    "print(salaries[['salary', 'salary_clean', 'salary_numeric']].head())\n",
    "\n",
    "# Mostrar estadísticas descriptivas de la columna 'salary_numeric'\n",
    "print(\"\\nEstadísticas descriptivas de 'salary_numeric':\")\n",
    "print(salaries['salary_numeric'].describe())\n",
    "\n",
    "# Crear un boxplot de la columna 'salary_numeric'\n",
    "plt.figure(figsize=(10, 6))\n",
    "plt.boxplot(salaries['salary_numeric'].dropna())\n",
    "plt.title('Boxplot de Salarios')\n",
    "plt.ylabel('Salario')\n",
    "plt.show()"
   ]
  },
  {
   "cell_type": "code",
   "execution_count": 20,
   "metadata": {},
   "outputs": [
    {
     "data": {
      "image/png": "[encoded data removed]",
      "text/plain": [
       "<Figure size 1000x600 with 1 Axes>"
      ]
     },
     "metadata": {},
     "output_type": "display_data"
    }
   ],
   "source": [
    "# Crear un histograma de la columna 'salary_numeric'\n",
    "plt.figure(figsize=(10, 6))\n",
    "plt.hist(salaries['salary_numeric'].dropna(), bins=30, edgecolor='k')\n",
    "plt.title('Histograma de Salarios')\n",
    "plt.xlabel('Salario')\n",
    "plt.ylabel('Frecuencia')\n",
    "plt.show()"
   ]
  }
 ],
 "metadata": {
  "kernelspec": {
   "display_name": "Python 3",
   "language": "python",
   "name": "python3"
  },
  "language_info": {
   "codemirror_mode": {
    "name": "ipython",
    "version": 3
   },
   "file_extension": ".py",
   "mimetype": "text/x-python",
   "name": "python",
   "nbconvert_exporter": "python",
   "pygments_lexer": "ipython3",
   "version": "3.13.2"
  }
 },
 "nbformat": 4,
 "nbformat_minor": 2
}
